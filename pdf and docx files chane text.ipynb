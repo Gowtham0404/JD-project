{
  "nbformat": 4,
  "nbformat_minor": 0,
  "metadata": {
    "colab": {
      "name": "Untitled14.ipynb",
      "provenance": [],
      "mount_file_id": "1YvFsUIhry_R7CKMnPLD2dZZ9BEhHYjNK",
      "authorship_tag": "ABX9TyPkN3dJlI5SF3T9IGN2pNF6",
      "include_colab_link": true
    },
    "kernelspec": {
      "name": "python3",
      "display_name": "Python 3"
    },
    "language_info": {
      "name": "python"
    }
  },
  "cells": [
    {
      "cell_type": "markdown",
      "metadata": {
        "id": "view-in-github",
        "colab_type": "text"
      },
      "source": [
        "<a href=\"https://colab.research.google.com/github/Gowtham0404/JD-project/blob/main/pdf%20and%20docx%20files%20chane%20text.ipynb\" target=\"_parent\"><img src=\"https://colab.research.google.com/assets/colab-badge.svg\" alt=\"Open In Colab\"/></a>"
      ]
    },
    {
      "cell_type": "markdown",
      "metadata": {
        "id": "1M83CTf_46kx"
      },
      "source": [
        "**PDF TO TEXT **"
      ]
    },
    {
      "cell_type": "code",
      "metadata": {
        "colab": {
          "base_uri": "https://localhost:8080/"
        },
        "id": "EBFb-8Ba4W46",
        "outputId": "47d556c9-48c8-45b5-f77d-2c079d399324"
      },
      "source": [
        "pip install PyPDF2"
      ],
      "execution_count": 1,
      "outputs": [
        {
          "output_type": "stream",
          "text": [
            "Collecting PyPDF2\n",
            "\u001b[?25l  Downloading https://files.pythonhosted.org/packages/b4/01/68fcc0d43daf4c6bdbc6b33cc3f77bda531c86b174cac56ef0ffdb96faab/PyPDF2-1.26.0.tar.gz (77kB)\n",
            "\u001b[K     |████████████████████████████████| 81kB 2.8MB/s \n",
            "\u001b[?25hBuilding wheels for collected packages: PyPDF2\n",
            "  Building wheel for PyPDF2 (setup.py) ... \u001b[?25l\u001b[?25hdone\n",
            "  Created wheel for PyPDF2: filename=PyPDF2-1.26.0-cp37-none-any.whl size=61102 sha256=bbfa7b8de382628cc1f196849cc0876e7a2f11e0c0b690db07d4c3832c964435\n",
            "  Stored in directory: /root/.cache/pip/wheels/53/84/19/35bc977c8bf5f0c23a8a011aa958acd4da4bbd7a229315c1b7\n",
            "Successfully built PyPDF2\n",
            "Installing collected packages: PyPDF2\n",
            "Successfully installed PyPDF2-1.26.0\n"
          ],
          "name": "stdout"
        }
      ]
    },
    {
      "cell_type": "code",
      "metadata": {
        "colab": {
          "base_uri": "https://localhost:8080/"
        },
        "id": "-PvUjdeD4bLX",
        "outputId": "06f15f52-0a4a-486a-bce9-42b8767022db"
      },
      "source": [
        "import PyPDF2\n",
        "pdf = PyPDF2.PdfFileReader (open(\"/content/drive/MyDrive/Student_AFD_8885488_492018144248773.pdf\",\"rb\"))\n",
        "for page in pdf.pages:\n",
        "  print (page.extractText());"
      ],
      "execution_count": 3,
      "outputs": [
        {
          "output_type": "stream",
          "text": [
            " BY THE STUDENT1.2.I have, in particular, perused clause 3 of the Regulations and am aware as to what constitutes\n",
            "ragging.\n",
            "3.I have also, in particular, perused clause 7 and clause 9.1 of the Regulations and am fully aware\n",
            "of the penal and administrative action that is liable to be taken against me in case I am found\n",
            "\n",
            "guilty for abetting ragging, actively or passively, or being part of a conspiracy to promote\n",
            "ragging.\n",
            "4.I hereby solemnly aver and undertake that I will not indulge in any behavior or act that maybe\n",
            "constituted as ragging under clause 3 of the Regulations. I will not participate in or abet or\n",
            "\n",
            "propagate through any act of commission or omission that may be constituted as ragging under\n",
            "\n",
            "clause 3 of the Regulations.\n",
            "5.I hereby affirm that, if found guilty of ragging, I am liable for punishment according to clause 9.1\n",
            "\n",
            "of the Regulations, without prejudice to any other criminal action that may be taken against me\n",
            "\n",
            "under any penallaw or any law for the time being in force. I hereby declare that I have not been\n",
            "\n",
            "expelled or debarred from admission in any institution in the country on account of being found\n",
            "\n",
            "guilty of, abetting or being part of a conspiracy to promote, ragging; and further affirm that, in\n",
            "case the declaration is found to be untrue, I am aware that my admission is liable to be\n",
            "canceled.\n",
            "Declared on ______________________ \n",
            "Signature of deponent \n",
            "Name : \n",
            "VERIFICATION  Verified that the contents of this \n",
            " are true to the best \n",
            "of my knowledge and \n",
            "nopart of the  is false and \n",
            "nothing has been concealed or misstated therein.Verified \n",
            "at ___________\n",
            "_ on \n",
            "____________  \n",
            "Signature of deponent \n",
            "\n"
          ],
          "name": "stdout"
        }
      ]
    },
    {
      "cell_type": "markdown",
      "metadata": {
        "id": "QNSq5JmP5K0_"
      },
      "source": [
        "**DOCX TO TEXT**"
      ]
    },
    {
      "cell_type": "code",
      "metadata": {
        "colab": {
          "base_uri": "https://localhost:8080/"
        },
        "id": "Z3LKw3E44iGG",
        "outputId": "e52a0930-b1da-47b0-f045-d657fe936b68"
      },
      "source": [
        "pip install docx2txt"
      ],
      "execution_count": 4,
      "outputs": [
        {
          "output_type": "stream",
          "text": [
            "Collecting docx2txt\n",
            "  Downloading https://files.pythonhosted.org/packages/7d/7d/60ee3f2b16d9bfdfa72e8599470a2c1a5b759cb113c6fe1006be28359327/docx2txt-0.8.tar.gz\n",
            "Building wheels for collected packages: docx2txt\n",
            "  Building wheel for docx2txt (setup.py) ... \u001b[?25l\u001b[?25hdone\n",
            "  Created wheel for docx2txt: filename=docx2txt-0.8-cp37-none-any.whl size=3981 sha256=157a2aff61a513209f2c757f4092b78630998be573619b34d87cd4a9e55ae962\n",
            "  Stored in directory: /root/.cache/pip/wheels/b2/1f/26/a051209bbb77fc6bcfae2bb7e01fa0ff941b82292ab084d596\n",
            "Successfully built docx2txt\n",
            "Installing collected packages: docx2txt\n",
            "Successfully installed docx2txt-0.8\n"
          ],
          "name": "stdout"
        }
      ]
    },
    {
      "cell_type": "code",
      "metadata": {
        "colab": {
          "base_uri": "https://localhost:8080/"
        },
        "id": "yMBXqPNk5QG8",
        "outputId": "74991c04-0cd6-4a09-ae58-af940fed0303"
      },
      "source": [
        "import docx2txt\n",
        "\n",
        "MY_TEXT = docx2txt.process(\"/content/drive/MyDrive/Letterpad.docx\")\n",
        "\n",
        "\n",
        "with open(\"Output.txt\", \"w\") as text_file:\n",
        "    print(MY_TEXT)"
      ],
      "execution_count": 6,
      "outputs": [
        {
          "output_type": "stream",
          "text": [
            "Date:\n",
            "\n",
            "Place: Coimbatore\n",
            "\n",
            "\n",
            "\n",
            "\n",
            "\n",
            "\n",
            "\n",
            "TO WHOMSOEVER IT MAY CONCERN\n",
            "\n",
            "\n",
            "\n",
            "\n",
            "\n",
            "Sub : Completion of Final year  Project\n",
            "\n",
            "\n",
            "\n",
            "This is to certify that Mr.Dilipkumar(17USC004) who is pursuing final year Sri Ramakrishna Mission Vidhyalaya College of Arts and Science, Coimbatore has been successfully completed the final year   project   entitled   in   “Library Management System”   on   our    concern    from  26-12-2020 to 10-04-2020.\n"
          ],
          "name": "stdout"
        }
      ]
    },
    {
      "cell_type": "code",
      "metadata": {
        "id": "b2v_EqA55WEp"
      },
      "source": [
        ""
      ],
      "execution_count": null,
      "outputs": []
    }
  ]
}